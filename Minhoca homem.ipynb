{
 "cells": [
  {
   "cell_type": "code",
   "execution_count": 12,
   "metadata": {},
   "outputs": [
    {
     "ename": "IndentationError",
     "evalue": "expected an indented block (<ipython-input-12-073b1e670b0c>, line 5)",
     "output_type": "error",
     "traceback": [
      "\u001b[1;36m  File \u001b[1;32m\"<ipython-input-12-073b1e670b0c>\"\u001b[1;36m, line \u001b[1;32m5\u001b[0m\n\u001b[1;33m    distancia = 0\u001b[0m\n\u001b[1;37m    ^\u001b[0m\n\u001b[1;31mIndentationError\u001b[0m\u001b[1;31m:\u001b[0m expected an indented block\n"
     ]
    }
   ],
   "source": [
    "class Minhoca:\n",
    "    \n",
    "# Variaveis\n",
    "\n",
    "distancia = 0\n",
    "sobe = 0\n",
    "desce = 0\n",
    "contadorDias = 0\n",
    "\n",
    "# Construtor\n",
    "def __init__ (self, sobe, desce):\n",
    "    self.sobe = sobe\n",
    "    self.desce = desce\n",
    "    \n",
    "# Metodo 1\n",
    "def subir(self):\n",
    "    self.distancia = self.distancia + self.sobe\n",
    "    self.contadorDias = self.contadorDias + 1\n",
    "    if self.distancia < 10:\n",
    "        self.descer()\n",
    "    return self.contadorDias\n",
    "    \n",
    "# Metodo 2\n",
    "def descer(self):\n",
    "    if self.distancia < 10:\n",
    "        self.distancia = self.distancia - self.desce\n",
    "    return self.distancia\n",
    "   \n",
    "# Metodo 3\n",
    "def contarDias(self):\n",
    "    while self.distancia < 10:\n",
    "        self.subir()\n",
    "    return self.contadorDias\n",
    "    \n",
    "# Instanciando a classe Minhoca\n",
    "m = Minhoca(,1)\n",
    "print (str(m.contarDias()) + ' dias')\n",
    "    \n",
    "        "
   ]
  },
  {
   "cell_type": "code",
   "execution_count": null,
   "metadata": {},
   "outputs": [],
   "source": []
  },
  {
   "cell_type": "code",
   "execution_count": null,
   "metadata": {},
   "outputs": [],
   "source": []
  },
  {
   "cell_type": "code",
   "execution_count": null,
   "metadata": {},
   "outputs": [],
   "source": []
  }
 ],
 "metadata": {
  "kernelspec": {
   "display_name": "Python 3",
   "language": "python",
   "name": "python3"
  },
  "language_info": {
   "codemirror_mode": {
    "name": "ipython",
    "version": 3
   },
   "file_extension": ".py",
   "mimetype": "text/x-python",
   "name": "python",
   "nbconvert_exporter": "python",
   "pygments_lexer": "ipython3",
   "version": "3.8.3"
  }
 },
 "nbformat": 4,
 "nbformat_minor": 4
}
